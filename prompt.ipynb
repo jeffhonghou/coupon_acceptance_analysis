{
 "cells": [
  {
   "cell_type": "markdown",
   "metadata": {
    "id": "CcUT6Fon_qRE"
   },
   "source": [
    "### Required Assignment 5.1: Will the Customer Accept the Coupon?\n",
    "\n",
    "**Context**\n",
    "\n",
    "Imagine driving through town and a coupon is delivered to your cell phone for a restaurant near where you are driving. Would you accept that coupon and take a short detour to the restaurant? Would you accept the coupon but use it on a subsequent trip? Would you ignore the coupon entirely? What if the coupon was for a bar instead of a restaurant? What about a coffee house? Would you accept a bar coupon with a minor passenger in the car? What about if it was just you and your partner in the car? Would weather impact the rate of acceptance? What about the time of day?\n",
    "\n",
    "Obviously, proximity to the business is a factor on whether the coupon is delivered to the driver or not, but what are the factors that determine whether a driver accepts the coupon once it is delivered to them? How would you determine whether a driver is likely to accept a coupon?\n",
    "\n",
    "**Overview**\n",
    "\n",
    "The goal of this project is to use what you know about visualizations and probability distributions to distinguish between customers who accepted a driving coupon versus those that did not.\n",
    "\n",
    "**Data**\n",
    "\n",
    "This data comes to us from the UCI Machine Learning repository and was collected via a survey on Amazon Mechanical Turk. The survey describes different driving scenarios including the destination, current time, weather, passenger, etc., and then ask the person whether he will accept the coupon if he is the driver. Answers that the user will drive there ‘right away’ or ‘later before the coupon expires’ are labeled as ‘Y = 1’ and answers ‘no, I do not want the coupon’ are labeled as ‘Y = 0’.  There are five different types of coupons -- less expensive restaurants (under `$20`), coffee houses, carry-out & take away, bar, and more expensive restaurants (`$20 - $50`)."
   ]
  },
  {
   "cell_type": "markdown",
   "metadata": {
    "id": "1wORvMBJ_qRF"
   },
   "source": [
    "**Deliverables**\n",
    "\n",
    "Your final product should be a brief report that highlights the differences between customers who did and did not accept the coupons.  To explore the data you will utilize your knowledge of plotting, statistical summaries, and visualization using Python. You will publish your findings in a public facing github repository as your first portfolio piece.\n",
    "\n",
    "\n",
    "\n"
   ]
  },
  {
   "cell_type": "markdown",
   "metadata": {
    "id": "pG6_Ym6q_qRG"
   },
   "source": [
    "### Data Description\n",
    "Keep in mind that these values mentioned below are average values.\n",
    "\n",
    "The attributes of this data set include:\n",
    "1. User attributes\n",
    "    -  Gender: male, female\n",
    "    -  Age: below 21, 21 to 25, 26 to 30, etc.\n",
    "    -  Marital Status: single, married partner, unmarried partner, or widowed\n",
    "    -  Number of children: 0, 1, or more than 1\n",
    "    -  Education: high school, bachelors degree, associates degree, or graduate degree\n",
    "    -  Occupation: architecture & engineering, business & financial, etc.\n",
    "    -  Annual income: less than \\\\$12500, \\\\$12500 - \\\\$24999, \\\\$25000 - \\\\$37499, etc.\n",
    "    -  Number of times that he/she goes to a bar: 0, less than 1, 1 to 3, 4 to 8 or greater than 8\n",
    "    -  Number of times that he/she buys takeaway food: 0, less than 1, 1 to 3, 4 to 8 or greater\n",
    "    than 8\n",
    "    -  Number of times that he/she goes to a coffee house: 0, less than 1, 1 to 3, 4 to 8 or\n",
    "    greater than 8\n",
    "    -  Number of times that he/she eats at a restaurant with average expense less than \\\\$20 per\n",
    "    person: 0, less than 1, 1 to 3, 4 to 8 or greater than 8\n",
    "    -  Number of times that he/she goes to a bar: 0, less than 1, 1 to 3, 4 to 8 or greater than 8\n",
    "    \n",
    "\n",
    "2. Contextual attributes\n",
    "    - Driving destination: home, work, or no urgent destination\n",
    "    - Location of user, coupon and destination: we provide a map to show the geographical\n",
    "    location of the user, destination, and the venue, and we mark the distance between each\n",
    "    two places with time of driving. The user can see whether the venue is in the same\n",
    "    direction as the destination.\n",
    "    - Weather: sunny, rainy, or snowy\n",
    "    - Temperature: 30F, 55F, or 80F\n",
    "    - Time: 10AM, 2PM, or 6PM\n",
    "    - Passenger: alone, partner, kid(s), or friend(s)\n",
    "\n",
    "\n",
    "3. Coupon attributes\n",
    "    - time before it expires: 2 hours or one day"
   ]
  },
  {
   "cell_type": "code",
   "execution_count": 4,
   "metadata": {
    "id": "dzNoP3o__qRG"
   },
   "outputs": [],
   "source": [
    "import matplotlib.pyplot as plt\n",
    "import seaborn as sns\n",
    "import pandas as pd\n",
    "import numpy as np"
   ]
  },
  {
   "cell_type": "markdown",
   "metadata": {
    "id": "Ct8pI1uE_qRG"
   },
   "source": [
    "### Problems\n",
    "\n",
    "Use the prompts below to get started with your data analysis.  \n",
    "\n",
    "1. Read in the `coupons.csv` file.\n",
    "\n",
    "\n"
   ]
  },
  {
   "cell_type": "code",
   "execution_count": 6,
   "metadata": {
    "id": "X0vbffYg_qRH"
   },
   "outputs": [],
   "source": [
    "data = pd.read_csv('data/coupons.csv')"
   ]
  },
  {
   "cell_type": "code",
   "execution_count": 7,
   "metadata": {
    "id": "TXofQ_DF_qRH",
    "outputId": "2fc96a2c-1112-4b54-f24f-dbb9bc88abfb"
   },
   "outputs": [
    {
     "data": {
      "text/html": [
       "<div>\n",
       "<style scoped>\n",
       "    .dataframe tbody tr th:only-of-type {\n",
       "        vertical-align: middle;\n",
       "    }\n",
       "\n",
       "    .dataframe tbody tr th {\n",
       "        vertical-align: top;\n",
       "    }\n",
       "\n",
       "    .dataframe thead th {\n",
       "        text-align: right;\n",
       "    }\n",
       "</style>\n",
       "<table border=\"1\" class=\"dataframe\">\n",
       "  <thead>\n",
       "    <tr style=\"text-align: right;\">\n",
       "      <th></th>\n",
       "      <th>destination</th>\n",
       "      <th>passanger</th>\n",
       "      <th>weather</th>\n",
       "      <th>temperature</th>\n",
       "      <th>time</th>\n",
       "      <th>coupon</th>\n",
       "      <th>expiration</th>\n",
       "      <th>gender</th>\n",
       "      <th>age</th>\n",
       "      <th>maritalStatus</th>\n",
       "      <th>...</th>\n",
       "      <th>CoffeeHouse</th>\n",
       "      <th>CarryAway</th>\n",
       "      <th>RestaurantLessThan20</th>\n",
       "      <th>Restaurant20To50</th>\n",
       "      <th>toCoupon_GEQ5min</th>\n",
       "      <th>toCoupon_GEQ15min</th>\n",
       "      <th>toCoupon_GEQ25min</th>\n",
       "      <th>direction_same</th>\n",
       "      <th>direction_opp</th>\n",
       "      <th>Y</th>\n",
       "    </tr>\n",
       "  </thead>\n",
       "  <tbody>\n",
       "    <tr>\n",
       "      <th>0</th>\n",
       "      <td>No Urgent Place</td>\n",
       "      <td>Alone</td>\n",
       "      <td>Sunny</td>\n",
       "      <td>55</td>\n",
       "      <td>2PM</td>\n",
       "      <td>Restaurant(&lt;20)</td>\n",
       "      <td>1d</td>\n",
       "      <td>Female</td>\n",
       "      <td>21</td>\n",
       "      <td>Unmarried partner</td>\n",
       "      <td>...</td>\n",
       "      <td>never</td>\n",
       "      <td>NaN</td>\n",
       "      <td>4~8</td>\n",
       "      <td>1~3</td>\n",
       "      <td>1</td>\n",
       "      <td>0</td>\n",
       "      <td>0</td>\n",
       "      <td>0</td>\n",
       "      <td>1</td>\n",
       "      <td>1</td>\n",
       "    </tr>\n",
       "    <tr>\n",
       "      <th>1</th>\n",
       "      <td>No Urgent Place</td>\n",
       "      <td>Friend(s)</td>\n",
       "      <td>Sunny</td>\n",
       "      <td>80</td>\n",
       "      <td>10AM</td>\n",
       "      <td>Coffee House</td>\n",
       "      <td>2h</td>\n",
       "      <td>Female</td>\n",
       "      <td>21</td>\n",
       "      <td>Unmarried partner</td>\n",
       "      <td>...</td>\n",
       "      <td>never</td>\n",
       "      <td>NaN</td>\n",
       "      <td>4~8</td>\n",
       "      <td>1~3</td>\n",
       "      <td>1</td>\n",
       "      <td>0</td>\n",
       "      <td>0</td>\n",
       "      <td>0</td>\n",
       "      <td>1</td>\n",
       "      <td>0</td>\n",
       "    </tr>\n",
       "    <tr>\n",
       "      <th>2</th>\n",
       "      <td>No Urgent Place</td>\n",
       "      <td>Friend(s)</td>\n",
       "      <td>Sunny</td>\n",
       "      <td>80</td>\n",
       "      <td>10AM</td>\n",
       "      <td>Carry out &amp; Take away</td>\n",
       "      <td>2h</td>\n",
       "      <td>Female</td>\n",
       "      <td>21</td>\n",
       "      <td>Unmarried partner</td>\n",
       "      <td>...</td>\n",
       "      <td>never</td>\n",
       "      <td>NaN</td>\n",
       "      <td>4~8</td>\n",
       "      <td>1~3</td>\n",
       "      <td>1</td>\n",
       "      <td>1</td>\n",
       "      <td>0</td>\n",
       "      <td>0</td>\n",
       "      <td>1</td>\n",
       "      <td>1</td>\n",
       "    </tr>\n",
       "    <tr>\n",
       "      <th>3</th>\n",
       "      <td>No Urgent Place</td>\n",
       "      <td>Friend(s)</td>\n",
       "      <td>Sunny</td>\n",
       "      <td>80</td>\n",
       "      <td>2PM</td>\n",
       "      <td>Coffee House</td>\n",
       "      <td>2h</td>\n",
       "      <td>Female</td>\n",
       "      <td>21</td>\n",
       "      <td>Unmarried partner</td>\n",
       "      <td>...</td>\n",
       "      <td>never</td>\n",
       "      <td>NaN</td>\n",
       "      <td>4~8</td>\n",
       "      <td>1~3</td>\n",
       "      <td>1</td>\n",
       "      <td>1</td>\n",
       "      <td>0</td>\n",
       "      <td>0</td>\n",
       "      <td>1</td>\n",
       "      <td>0</td>\n",
       "    </tr>\n",
       "    <tr>\n",
       "      <th>4</th>\n",
       "      <td>No Urgent Place</td>\n",
       "      <td>Friend(s)</td>\n",
       "      <td>Sunny</td>\n",
       "      <td>80</td>\n",
       "      <td>2PM</td>\n",
       "      <td>Coffee House</td>\n",
       "      <td>1d</td>\n",
       "      <td>Female</td>\n",
       "      <td>21</td>\n",
       "      <td>Unmarried partner</td>\n",
       "      <td>...</td>\n",
       "      <td>never</td>\n",
       "      <td>NaN</td>\n",
       "      <td>4~8</td>\n",
       "      <td>1~3</td>\n",
       "      <td>1</td>\n",
       "      <td>1</td>\n",
       "      <td>0</td>\n",
       "      <td>0</td>\n",
       "      <td>1</td>\n",
       "      <td>0</td>\n",
       "    </tr>\n",
       "  </tbody>\n",
       "</table>\n",
       "<p>5 rows × 26 columns</p>\n",
       "</div>"
      ],
      "text/plain": [
       "       destination  passanger weather  temperature  time  \\\n",
       "0  No Urgent Place      Alone   Sunny           55   2PM   \n",
       "1  No Urgent Place  Friend(s)   Sunny           80  10AM   \n",
       "2  No Urgent Place  Friend(s)   Sunny           80  10AM   \n",
       "3  No Urgent Place  Friend(s)   Sunny           80   2PM   \n",
       "4  No Urgent Place  Friend(s)   Sunny           80   2PM   \n",
       "\n",
       "                  coupon expiration  gender age      maritalStatus  ...  \\\n",
       "0        Restaurant(<20)         1d  Female  21  Unmarried partner  ...   \n",
       "1           Coffee House         2h  Female  21  Unmarried partner  ...   \n",
       "2  Carry out & Take away         2h  Female  21  Unmarried partner  ...   \n",
       "3           Coffee House         2h  Female  21  Unmarried partner  ...   \n",
       "4           Coffee House         1d  Female  21  Unmarried partner  ...   \n",
       "\n",
       "   CoffeeHouse CarryAway RestaurantLessThan20 Restaurant20To50  \\\n",
       "0        never       NaN                  4~8              1~3   \n",
       "1        never       NaN                  4~8              1~3   \n",
       "2        never       NaN                  4~8              1~3   \n",
       "3        never       NaN                  4~8              1~3   \n",
       "4        never       NaN                  4~8              1~3   \n",
       "\n",
       "  toCoupon_GEQ5min toCoupon_GEQ15min toCoupon_GEQ25min direction_same  \\\n",
       "0                1                 0                 0              0   \n",
       "1                1                 0                 0              0   \n",
       "2                1                 1                 0              0   \n",
       "3                1                 1                 0              0   \n",
       "4                1                 1                 0              0   \n",
       "\n",
       "  direction_opp  Y  \n",
       "0             1  1  \n",
       "1             1  0  \n",
       "2             1  1  \n",
       "3             1  0  \n",
       "4             1  0  \n",
       "\n",
       "[5 rows x 26 columns]"
      ]
     },
     "execution_count": 7,
     "metadata": {},
     "output_type": "execute_result"
    }
   ],
   "source": [
    "data.head()"
   ]
  },
  {
   "cell_type": "markdown",
   "metadata": {
    "id": "GcDs78ZH_qRH"
   },
   "source": [
    "2. Investigate the dataset for missing or problematic data."
   ]
  },
  {
   "cell_type": "code",
   "execution_count": 9,
   "metadata": {
    "id": "6CwL6oWj_qRH",
    "scrolled": true
   },
   "outputs": [
    {
     "data": {
      "text/plain": [
       "destination              0.000000\n",
       "passanger                0.000000\n",
       "weather                  0.000000\n",
       "temperature              0.000000\n",
       "time                     0.000000\n",
       "coupon                   0.000000\n",
       "expiration               0.000000\n",
       "gender                   0.000000\n",
       "age                      0.000000\n",
       "maritalStatus            0.000000\n",
       "has_children             0.000000\n",
       "education                0.000000\n",
       "occupation               0.000000\n",
       "income                   0.000000\n",
       "car                     99.148534\n",
       "Bar                      0.843582\n",
       "CoffeeHouse              1.710817\n",
       "CarryAway                1.190476\n",
       "RestaurantLessThan20     1.024913\n",
       "Restaurant20To50         1.490066\n",
       "toCoupon_GEQ5min         0.000000\n",
       "toCoupon_GEQ15min        0.000000\n",
       "toCoupon_GEQ25min        0.000000\n",
       "direction_same           0.000000\n",
       "direction_opp            0.000000\n",
       "Y                        0.000000\n",
       "dtype: float64"
      ]
     },
     "execution_count": 9,
     "metadata": {},
     "output_type": "execute_result"
    }
   ],
   "source": [
    "missing_data_percentage = (data.isnull().mean() * 100)\n",
    "missing_data_percentage"
   ]
  },
  {
   "cell_type": "markdown",
   "metadata": {
    "id": "bSdVSpYB_qRH"
   },
   "source": [
    "3. Decide what to do about your missing data -- drop, replace, other..."
   ]
  },
  {
   "cell_type": "code",
   "execution_count": 13,
   "metadata": {
    "id": "tyvoAC5F_qRI"
   },
   "outputs": [],
   "source": [
    "df = data.drop('car', axis = 1)\n",
    "df_dropped = df.dropna(axis=0, how='any')"
   ]
  },
  {
   "cell_type": "markdown",
   "metadata": {
    "id": "YE6oJbXd_qRI"
   },
   "source": [
    "4. What proportion of the total observations chose to accept the coupon?\n",
    "\n"
   ]
  },
  {
   "cell_type": "code",
   "execution_count": 18,
   "metadata": {
    "id": "86GGqBTv_qRI"
   },
   "outputs": [],
   "source": [
    "acceptance_rate = df_dropped['Y'].value_counts(normalize=True) * 100\n",
    "proportion_accepted = acceptance_rate.get(1, 0)"
   ]
  },
  {
   "cell_type": "markdown",
   "metadata": {
    "id": "vflz0DoE_qRI"
   },
   "source": [
    "5. Use a bar plot to visualize the `coupon` column."
   ]
  },
  {
   "cell_type": "code",
   "execution_count": 21,
   "metadata": {
    "id": "dHFh3E45_qRI"
   },
   "outputs": [
    {
     "data": {
      "text/plain": [
       "([0, 1, 2, 3, 4],\n",
       " [Text(0, 0, 'Bar'),\n",
       "  Text(1, 0, 'Coffee House'),\n",
       "  Text(2, 0, 'Carry out & Take away'),\n",
       "  Text(3, 0, 'Restaurant(<20)'),\n",
       "  Text(4, 0, 'Restaurant(20-50)')])"
      ]
     },
     "execution_count": 21,
     "metadata": {},
     "output_type": "execute_result"
    },
    {
     "data": {
      "image/png": "[encoded data removed]",
      "text/plain": [
       "<Figure size 640x480 with 1 Axes>"
      ]
     },
     "metadata": {},
     "output_type": "display_data"
    }
   ],
   "source": [
    "coupon_type_order = ['Bar', 'Coffee House', 'Carry out & Take away', 'Restaurant(<20)', 'Restaurant(20-50)']\n",
    "sns.barplot(data=df_dropped, x='coupon', y='Y', hue='coupon', order=coupon_type_order)\n",
    "plt.title(\"Distribution of Coupon Types\")\n",
    "plt.xlabel(\"Coupon Type\")\n",
    "plt.ylabel(\"Count\")\n",
    "plt.xticks(rotation=45)"
   ]
  },
  {
   "cell_type": "markdown",
   "metadata": {
    "id": "Qw4lCyx2_qRI"
   },
   "source": [
    "6. Use a histogram to visualize the temperature column."
   ]
  },
  {
   "cell_type": "code",
   "execution_count": 23,
   "metadata": {
    "id": "Yg9Anv71_qRI"
   },
   "outputs": [
    {
     "data": {
      "text/plain": [
       "Text(0.5, 1.0, 'Distribution of temperature')"
      ]
     },
     "execution_count": 23,
     "metadata": {},
     "output_type": "execute_result"
    },
    {
     "data": {
      "image/png": "[encoded data removed]",
      "text/plain": [
       "<Figure size 640x480 with 1 Axes>"
      ]
     },
     "metadata": {},
     "output_type": "display_data"
    }
   ],
   "source": [
    "sns.histplot(data=df_dropped, x='temperature', kde=True)\n",
    "plt.title(\"Distribution of temperature\")"
   ]
  },
  {
   "cell_type": "code",
   "execution_count": 24,
   "metadata": {
    "id": "zLtOaJQk_qRI"
   },
   "outputs": [
    {
     "data": {
      "text/plain": [
       "Text(0, 0.5, 'Count')"
      ]
     },
     "execution_count": 24,
     "metadata": {},
     "output_type": "execute_result"
    },
    {
     "data": {
      "image/png": "[encoded data removed]",
      "text/plain": [
       "<Figure size 640x480 with 1 Axes>"
      ]
     },
     "metadata": {},
     "output_type": "display_data"
    }
   ],
   "source": [
    "sns.histplot(data=df_dropped, x='age', hue='Y', kde=True, multiple='dodge')\n",
    "plt.title(\"Distribution of Ages\")\n",
    "plt.xlabel(\"Age\")\n",
    "plt.ylabel(\"Count\")"
   ]
  },
  {
   "cell_type": "code",
   "execution_count": 26,
   "metadata": {
    "id": "7GBHZKBp_qRJ"
   },
   "outputs": [
    {
     "data": {
      "text/plain": [
       "([0, 1, 2, 3, 4, 5, 6, 7, 8],\n",
       " [Text(0, 0, 'Less than $12500'),\n",
       "  Text(1, 0, '$12500 - $24999'),\n",
       "  Text(2, 0, '$25000 - $37499'),\n",
       "  Text(3, 0, '$37500 - $49999'),\n",
       "  Text(4, 0, '$50000 - $62499'),\n",
       "  Text(5, 0, '$62500 - $74999'),\n",
       "  Text(6, 0, '$75000 - $87499'),\n",
       "  Text(7, 0, '$87500 - $99999'),\n",
       "  Text(8, 0, '$100000 or More')])"
      ]
     },
     "execution_count": 26,
     "metadata": {},
     "output_type": "execute_result"
    },
    {
     "data": {
      "image/png": "[encoded data removed]",
      "text/plain": [
       "<Figure size 640x480 with 1 Axes>"
      ]
     },
     "metadata": {},
     "output_type": "display_data"
    }
   ],
   "source": [
    "income_order = ['Less than $12500', '$12500 - $24999', '$25000 - $37499', '$37500 - $49999','$50000 - $62499','$62500 - $74999','$75000 - $87499','$87500 - $99999','$100000 or More'] \n",
    "sns.barplot(data=df_dropped, x='income', y='Y', hue='income', order=income_order)\n",
    "plt.title(\"Distribution of Incomes\")\n",
    "plt.xlabel(\"Income\")\n",
    "plt.ylabel(\"Count\")\n",
    "plt.xticks(rotation=45)"
   ]
  },
  {
   "cell_type": "code",
   "execution_count": 28,
   "metadata": {
    "id": "Y5nBUA-j_qRJ"
   },
   "outputs": [
    {
     "data": {
      "text/plain": [
       "([0, 1, 2, 3, 4],\n",
       " [Text(0, 0, 'Single'),\n",
       "  Text(1, 0, 'Married partner'),\n",
       "  Text(2, 0, 'Unmarried partner'),\n",
       "  Text(3, 0, 'Divorced'),\n",
       "  Text(4, 0, 'Widowed')])"
      ]
     },
     "execution_count": 28,
     "metadata": {},
     "output_type": "execute_result"
    },
    {
     "data": {
      "image/png": "[encoded data removed]",
      "text/plain": [
       "<Figure size 640x480 with 1 Axes>"
      ]
     },
     "metadata": {},
     "output_type": "display_data"
    }
   ],
   "source": [
    "sns.countplot( data = df_dropped, x = 'maritalStatus', hue = 'Y')\n",
    "plt.title(\"Distribution of marital statuses\")\n",
    "plt.xlabel(\"Marital statuses\")\n",
    "plt.ylabel(\"Count\")\n",
    "plt.xticks(rotation=45)"
   ]
  },
  {
   "cell_type": "code",
   "execution_count": 29,
   "metadata": {
    "id": "ShcUC-Vm_qRJ"
   },
   "outputs": [
    {
     "data": {
      "text/plain": [
       "([0, 1, 2, 3, 4],\n",
       " [Text(0, 0, '2PM'),\n",
       "  Text(1, 0, '10AM'),\n",
       "  Text(2, 0, '6PM'),\n",
       "  Text(3, 0, '7AM'),\n",
       "  Text(4, 0, '10PM')])"
      ]
     },
     "execution_count": 29,
     "metadata": {},
     "output_type": "execute_result"
    },
    {
     "data": {
      "image/png": "[encoded data removed]",
      "text/plain": [
       "<Figure size 640x480 with 1 Axes>"
      ]
     },
     "metadata": {},
     "output_type": "display_data"
    }
   ],
   "source": [
    "sns.countplot( data = df_dropped, x = 'time', hue = 'Y')\n",
    "plt.title(\"Distribution of time\")\n",
    "plt.xlabel(\"Time\")\n",
    "plt.ylabel(\"Count\")\n",
    "plt.xticks(rotation=45)"
   ]
  },
  {
   "cell_type": "markdown",
   "metadata": {
    "id": "FupfgeJk_qRJ"
   },
   "source": [
    "**Investigating the Bar Coupons**\n",
    "\n",
    "Now, we will lead you through an exploration of just the bar related coupons.  \n",
    "\n",
    "1. Create a new `DataFrame` that contains just the bar coupons.\n"
   ]
  },
  {
   "cell_type": "code",
   "execution_count": 32,
   "metadata": {
    "id": "tMBlWuGq_qRJ"
   },
   "outputs": [],
   "source": [
    "df_bar_coupon = df_dropped.query('coupon == \"Bar\"').copy()"
   ]
  },
  {
   "cell_type": "markdown",
   "metadata": {
    "id": "8ue6uCqf_qRJ"
   },
   "source": [
    "2. What proportion of bar coupons were accepted?\n"
   ]
  },
  {
   "cell_type": "code",
   "execution_count": 34,
   "metadata": {
    "id": "hSdte8Mi_qRK"
   },
   "outputs": [
    {
     "data": {
      "text/plain": [
       "0.41191845269210664"
      ]
     },
     "execution_count": 34,
     "metadata": {},
     "output_type": "execute_result"
    }
   ],
   "source": [
    "bar_coupon_acceptance_rate = df_bar_coupon['Y'].mean()\n",
    "bar_coupon_acceptance_rate"
   ]
  },
  {
   "cell_type": "markdown",
   "metadata": {
    "id": "85nA_iEi_qRK"
   },
   "source": [
    "3. Compare the acceptance rate between those who went to a bar 3 or fewer times a month to those who went more.\n"
   ]
  },
  {
   "cell_type": "code",
   "execution_count": 38,
   "metadata": {
    "id": "LBOrN-XM_qRK"
   },
   "outputs": [
    {
     "data": {
      "text/plain": [
       "bar_visit_group\n",
       "3 or fewer     0.372674\n",
       "More than 3    0.761658\n",
       "Name: Y, dtype: float64"
      ]
     },
     "execution_count": 38,
     "metadata": {},
     "output_type": "execute_result"
    }
   ],
   "source": [
    "df_bar_coupon['bar_visit_group'] = df_bar_coupon['Bar'].apply(\n",
    "    lambda x: '3 or fewer' if x in ['never', 'less1', '1~3'] else 'More than 3' if x in ['4~8','gt8'] else 'Other')\n",
    "acceptance_rate_by_bar_group = df_bar_coupon.groupby('bar_visit_group')['Y'].mean()\n",
    "acceptance_rate_by_bar_group"
   ]
  },
  {
   "cell_type": "markdown",
   "metadata": {
    "id": "RBgcQwH4_qRK"
   },
   "source": [
    "4. Compare the acceptance rate between drivers who go to a bar more than once a month and are over the age of 25 to the all others.  Is there a difference?\n"
   ]
  },
  {
   "cell_type": "code",
   "execution_count": 43,
   "metadata": {
    "id": "bf28bbeX_qRK",
    "scrolled": true
   },
   "outputs": [
    {
     "data": {
      "text/plain": [
       "baragegroup\n",
       "All Others                                 0.350922\n",
       "Goes to Bar More Than Once and Age > 25    0.694118\n",
       "Name: Y, dtype: float64"
      ]
     },
     "execution_count": 43,
     "metadata": {},
     "output_type": "execute_result"
    }
   ],
   "source": [
    "df_bar_coupon = df_bar_coupon.copy()\n",
    "df_bar_coupon.reset_index()\n",
    "df_bar_coupon.loc[:,'goes_to_bar_more_than_once'] = df_bar_coupon['Bar'].isin(['1~3', '4~8', 'gt8'])\n",
    "df_bar_coupon.loc[:,'age'] = pd.to_numeric(df_bar_coupon['age'], errors='coerce')\n",
    "df_bar_coupon.loc[:,'baragegroup'] = df_bar_coupon.apply(\n",
    "    lambda x: 'Goes to Bar More Than Once and Age > 25' if x['age'] > 25 and x['goes_to_bar_more_than_once']\n",
    "              else 'All Others', axis=1)\n",
    "acceptance_rate_by_bar_age_group = df_bar_coupon.groupby('baragegroup')['Y'].mean()\n",
    "acceptance_rate_by_bar_age_group"
   ]
  },
  {
   "cell_type": "markdown",
   "metadata": {
    "id": "S4RKT4PJ_qRK"
   },
   "source": [
    "5. Use the same process to compare the acceptance rate between drivers who go to bars more than once a month and had passengers that were not a kid and had occupations other than farming, fishing, or forestry.\n"
   ]
  },
  {
   "cell_type": "code",
   "execution_count": 47,
   "metadata": {
    "id": "sENaI2Tg_qRK"
   },
   "outputs": [
    {
     "data": {
      "text/plain": [
       "barpassengeroccupationgroup\n",
       "All Others                                                                                                         0.378770\n",
       "Goes to Bar More Than Once and Have passages not a kid and occupations other than farming, fishing, or forestry    0.714286\n",
       "Name: Y, dtype: float64"
      ]
     },
     "execution_count": 47,
     "metadata": {},
     "output_type": "execute_result"
    }
   ],
   "source": [
    "df_bar_coupon.reset_index()\n",
    "df_bar_coupon.loc[:,'goes_to_bar_more_than_once'] = df_bar_coupon['Bar'].isin(['1~3', '4~8', 'gt8'])\n",
    "df_bar_coupon.loc[:,'had_passanger_not_kid'] = df_bar_coupon['passanger'].isin(['Friend(s)','Partner'])\n",
    "df_bar_coupon.loc[:,'occupation_not_farmingfishingforestry'] = ~df_bar_coupon['occupation'].isin(['Farming Fishing & Forestry'])\n",
    "df_bar_coupon.loc[:,'barpassengeroccupationgroup'] = df_bar_coupon.apply(\n",
    "    lambda x: 'Goes to Bar More Than Once and Have passages not a kid and occupations other than farming, fishing, or forestry' \n",
    "    if x['goes_to_bar_more_than_once'] and x['had_passanger_not_kid'] and x['occupation_not_farmingfishingforestry'] \n",
    "    else 'All Others', axis=1)\n",
    "acceptance_rate_by_bar_passenger_occupation_group = df_bar_coupon.groupby('barpassengeroccupationgroup')['Y'].mean()\n",
    "acceptance_rate_by_bar_passenger_occupation_group"
   ]
  },
  {
   "cell_type": "markdown",
   "metadata": {
    "id": "n2LIUTil_qRK"
   },
   "source": [
    "6. Compare the acceptance rates between those drivers who:\n",
    "\n",
    "- go to bars more than once a month, had passengers that were not a kid, and were not widowed *OR*\n",
    "- go to bars more than once a month and are under the age of 30 *OR*\n",
    "- go to cheap restaurants more than 4 times a month and income is less than 50K.\n",
    "\n"
   ]
  },
  {
   "cell_type": "code",
   "execution_count": 50,
   "metadata": {
    "id": "aK_wEzx7_qRK"
   },
   "outputs": [
    {
     "data": {
      "text/plain": [
       "group\n",
       "All Others                                0.333853\n",
       "Condition 1: Bar, Not Kid, Not Widowed    0.642857\n",
       "Condition 2: Bar, Under 30                0.714912\n",
       "Condition 3: Restaurant, Income < 50K     0.456456\n",
       "Name: Y, dtype: float64"
      ]
     },
     "execution_count": 50,
     "metadata": {},
     "output_type": "execute_result"
    }
   ],
   "source": [
    "condition1 = (\n",
    "    (df_bar_coupon['Bar'].isin(['1~3', '4~8', 'gt8'])) & \n",
    "    (df_bar_coupon['passanger'].isin(['Friend(s)', 'Partner'])) & \n",
    "    (df_bar_coupon['maritalStatus'] != 'Widowed')\n",
    ")\n",
    "condition2 = (\n",
    "    (df_bar_coupon['Bar'].isin(['1~3', '4~8', 'gt8'])) & \n",
    "    (df_bar_coupon['age'] < 30)\n",
    ")\n",
    "condition3 = (\n",
    "    (df_bar_coupon['RestaurantLessThan20'].isin(['4~8', 'gt8'])) & \n",
    "    (df_bar_coupon['income'].isin(['Less than $12500','$12500 - $24999','$25000 - $37499','$37500 - $49999']))\n",
    ")\n",
    "df_bar_coupon.loc[:,'group'] = 'All Others'\n",
    "df_bar_coupon.loc[condition1, 'group'] = 'Condition 1: Bar, Not Kid, Not Widowed'\n",
    "df_bar_coupon.loc[condition2, 'group'] = 'Condition 2: Bar, Under 30'\n",
    "df_bar_coupon.loc[condition3, 'group'] = 'Condition 3: Restaurant, Income < 50K'\n",
    "acceptance_rate_by_group = df_bar_coupon.groupby('group')['Y'].mean()\n",
    "acceptance_rate_by_group"
   ]
  },
  {
   "cell_type": "markdown",
   "metadata": {
    "id": "v3fL3QkO_qRK"
   },
   "source": [
    "7.  Based on these observations, what do you hypothesize about drivers who accepted the bar coupons?"
   ]
  },
  {
   "cell_type": "code",
   "execution_count": 53,
   "metadata": {
    "id": "Y48naDFh_qRL"
   },
   "outputs": [
    {
     "data": {
      "text/plain": [
       "'Drivers who accepted the bar coupons are those who go to bars more than once a month and are under the age of 30.'"
      ]
     },
     "execution_count": 53,
     "metadata": {},
     "output_type": "execute_result"
    }
   ],
   "source": [
    "index_mapping = {\n",
    "    'Condition 1: Bar, Not Kid, Not Widowed': 'Drivers who accepted the bar coupons are those who go to bars more than once a month, had passengers that were not a kid, and were not widowed.',\n",
    "    'Condition 2: Bar, Under 30': 'Drivers who accepted the bar coupons are those who go to bars more than once a month and are under the age of 30.',\n",
    "    'Condition 3: Restaurant, Income < 50K': 'Drivers who accepted the bar coupons are those who go to cheap restaurants more than 4 times a month and income is less than 50K.'\n",
    "}\n",
    "acceptance_rate_by_group = acceptance_rate_by_group.rename(index=index_mapping).idxmax()\n",
    "acceptance_rate_by_group"
   ]
  },
  {
   "cell_type": "markdown",
   "metadata": {
    "id": "r4Hu1zOb_qRL"
   },
   "source": [
    "### Independent Investigation\n",
    "\n",
    "Using the bar coupon example as motivation, you are to explore one of the other coupon groups and try to determine the characteristics of passengers who accept the coupons.  "
   ]
  },
  {
   "cell_type": "markdown",
   "metadata": {},
   "source": [
    "**Investigating the Coffee Coupons**\n",
    "\n",
    "Follow the steps shown in the exmaple of exploration of just the bar related coupons.  \n",
    "1. Create a new `DataFrame` that contains just the coffee coupons."
   ]
  },
  {
   "cell_type": "code",
   "execution_count": 57,
   "metadata": {
    "scrolled": true
   },
   "outputs": [
    {
     "data": {
      "text/html": [
       "<div>\n",
       "<style scoped>\n",
       "    .dataframe tbody tr th:only-of-type {\n",
       "        vertical-align: middle;\n",
       "    }\n",
       "\n",
       "    .dataframe tbody tr th {\n",
       "        vertical-align: top;\n",
       "    }\n",
       "\n",
       "    .dataframe thead th {\n",
       "        text-align: right;\n",
       "    }\n",
       "</style>\n",
       "<table border=\"1\" class=\"dataframe\">\n",
       "  <thead>\n",
       "    <tr style=\"text-align: right;\">\n",
       "      <th></th>\n",
       "      <th>destination</th>\n",
       "      <th>passanger</th>\n",
       "      <th>weather</th>\n",
       "      <th>temperature</th>\n",
       "      <th>time</th>\n",
       "      <th>coupon</th>\n",
       "      <th>expiration</th>\n",
       "      <th>gender</th>\n",
       "      <th>age</th>\n",
       "      <th>maritalStatus</th>\n",
       "      <th>...</th>\n",
       "      <th>CoffeeHouse</th>\n",
       "      <th>CarryAway</th>\n",
       "      <th>RestaurantLessThan20</th>\n",
       "      <th>Restaurant20To50</th>\n",
       "      <th>toCoupon_GEQ5min</th>\n",
       "      <th>toCoupon_GEQ15min</th>\n",
       "      <th>toCoupon_GEQ25min</th>\n",
       "      <th>direction_same</th>\n",
       "      <th>direction_opp</th>\n",
       "      <th>Y</th>\n",
       "    </tr>\n",
       "  </thead>\n",
       "  <tbody>\n",
       "    <tr>\n",
       "      <th>23</th>\n",
       "      <td>No Urgent Place</td>\n",
       "      <td>Friend(s)</td>\n",
       "      <td>Sunny</td>\n",
       "      <td>80</td>\n",
       "      <td>10AM</td>\n",
       "      <td>Coffee House</td>\n",
       "      <td>2h</td>\n",
       "      <td>Male</td>\n",
       "      <td>21</td>\n",
       "      <td>Single</td>\n",
       "      <td>...</td>\n",
       "      <td>less1</td>\n",
       "      <td>4~8</td>\n",
       "      <td>4~8</td>\n",
       "      <td>less1</td>\n",
       "      <td>1</td>\n",
       "      <td>0</td>\n",
       "      <td>0</td>\n",
       "      <td>0</td>\n",
       "      <td>1</td>\n",
       "      <td>0</td>\n",
       "    </tr>\n",
       "    <tr>\n",
       "      <th>26</th>\n",
       "      <td>No Urgent Place</td>\n",
       "      <td>Friend(s)</td>\n",
       "      <td>Sunny</td>\n",
       "      <td>80</td>\n",
       "      <td>2PM</td>\n",
       "      <td>Coffee House</td>\n",
       "      <td>1d</td>\n",
       "      <td>Male</td>\n",
       "      <td>21</td>\n",
       "      <td>Single</td>\n",
       "      <td>...</td>\n",
       "      <td>less1</td>\n",
       "      <td>4~8</td>\n",
       "      <td>4~8</td>\n",
       "      <td>less1</td>\n",
       "      <td>1</td>\n",
       "      <td>0</td>\n",
       "      <td>0</td>\n",
       "      <td>0</td>\n",
       "      <td>1</td>\n",
       "      <td>0</td>\n",
       "    </tr>\n",
       "    <tr>\n",
       "      <th>27</th>\n",
       "      <td>No Urgent Place</td>\n",
       "      <td>Friend(s)</td>\n",
       "      <td>Sunny</td>\n",
       "      <td>80</td>\n",
       "      <td>2PM</td>\n",
       "      <td>Coffee House</td>\n",
       "      <td>2h</td>\n",
       "      <td>Male</td>\n",
       "      <td>21</td>\n",
       "      <td>Single</td>\n",
       "      <td>...</td>\n",
       "      <td>less1</td>\n",
       "      <td>4~8</td>\n",
       "      <td>4~8</td>\n",
       "      <td>less1</td>\n",
       "      <td>1</td>\n",
       "      <td>1</td>\n",
       "      <td>0</td>\n",
       "      <td>0</td>\n",
       "      <td>1</td>\n",
       "      <td>0</td>\n",
       "    </tr>\n",
       "    <tr>\n",
       "      <th>28</th>\n",
       "      <td>No Urgent Place</td>\n",
       "      <td>Friend(s)</td>\n",
       "      <td>Sunny</td>\n",
       "      <td>80</td>\n",
       "      <td>2PM</td>\n",
       "      <td>Coffee House</td>\n",
       "      <td>1d</td>\n",
       "      <td>Male</td>\n",
       "      <td>21</td>\n",
       "      <td>Single</td>\n",
       "      <td>...</td>\n",
       "      <td>less1</td>\n",
       "      <td>4~8</td>\n",
       "      <td>4~8</td>\n",
       "      <td>less1</td>\n",
       "      <td>1</td>\n",
       "      <td>1</td>\n",
       "      <td>0</td>\n",
       "      <td>0</td>\n",
       "      <td>1</td>\n",
       "      <td>0</td>\n",
       "    </tr>\n",
       "    <tr>\n",
       "      <th>30</th>\n",
       "      <td>No Urgent Place</td>\n",
       "      <td>Friend(s)</td>\n",
       "      <td>Sunny</td>\n",
       "      <td>80</td>\n",
       "      <td>6PM</td>\n",
       "      <td>Coffee House</td>\n",
       "      <td>2h</td>\n",
       "      <td>Male</td>\n",
       "      <td>21</td>\n",
       "      <td>Single</td>\n",
       "      <td>...</td>\n",
       "      <td>less1</td>\n",
       "      <td>4~8</td>\n",
       "      <td>4~8</td>\n",
       "      <td>less1</td>\n",
       "      <td>1</td>\n",
       "      <td>0</td>\n",
       "      <td>0</td>\n",
       "      <td>0</td>\n",
       "      <td>1</td>\n",
       "      <td>0</td>\n",
       "    </tr>\n",
       "    <tr>\n",
       "      <th>...</th>\n",
       "      <td>...</td>\n",
       "      <td>...</td>\n",
       "      <td>...</td>\n",
       "      <td>...</td>\n",
       "      <td>...</td>\n",
       "      <td>...</td>\n",
       "      <td>...</td>\n",
       "      <td>...</td>\n",
       "      <td>...</td>\n",
       "      <td>...</td>\n",
       "      <td>...</td>\n",
       "      <td>...</td>\n",
       "      <td>...</td>\n",
       "      <td>...</td>\n",
       "      <td>...</td>\n",
       "      <td>...</td>\n",
       "      <td>...</td>\n",
       "      <td>...</td>\n",
       "      <td>...</td>\n",
       "      <td>...</td>\n",
       "      <td>...</td>\n",
       "    </tr>\n",
       "    <tr>\n",
       "      <th>12656</th>\n",
       "      <td>Home</td>\n",
       "      <td>Alone</td>\n",
       "      <td>Snowy</td>\n",
       "      <td>30</td>\n",
       "      <td>10PM</td>\n",
       "      <td>Coffee House</td>\n",
       "      <td>2h</td>\n",
       "      <td>Male</td>\n",
       "      <td>31</td>\n",
       "      <td>Married partner</td>\n",
       "      <td>...</td>\n",
       "      <td>never</td>\n",
       "      <td>4~8</td>\n",
       "      <td>gt8</td>\n",
       "      <td>less1</td>\n",
       "      <td>1</td>\n",
       "      <td>1</td>\n",
       "      <td>0</td>\n",
       "      <td>0</td>\n",
       "      <td>1</td>\n",
       "      <td>0</td>\n",
       "    </tr>\n",
       "    <tr>\n",
       "      <th>12659</th>\n",
       "      <td>Work</td>\n",
       "      <td>Alone</td>\n",
       "      <td>Snowy</td>\n",
       "      <td>30</td>\n",
       "      <td>7AM</td>\n",
       "      <td>Coffee House</td>\n",
       "      <td>1d</td>\n",
       "      <td>Male</td>\n",
       "      <td>31</td>\n",
       "      <td>Married partner</td>\n",
       "      <td>...</td>\n",
       "      <td>never</td>\n",
       "      <td>4~8</td>\n",
       "      <td>gt8</td>\n",
       "      <td>less1</td>\n",
       "      <td>1</td>\n",
       "      <td>0</td>\n",
       "      <td>0</td>\n",
       "      <td>1</td>\n",
       "      <td>0</td>\n",
       "      <td>0</td>\n",
       "    </tr>\n",
       "    <tr>\n",
       "      <th>12674</th>\n",
       "      <td>Home</td>\n",
       "      <td>Alone</td>\n",
       "      <td>Rainy</td>\n",
       "      <td>55</td>\n",
       "      <td>10PM</td>\n",
       "      <td>Coffee House</td>\n",
       "      <td>2h</td>\n",
       "      <td>Male</td>\n",
       "      <td>26</td>\n",
       "      <td>Single</td>\n",
       "      <td>...</td>\n",
       "      <td>never</td>\n",
       "      <td>1~3</td>\n",
       "      <td>4~8</td>\n",
       "      <td>1~3</td>\n",
       "      <td>1</td>\n",
       "      <td>0</td>\n",
       "      <td>0</td>\n",
       "      <td>1</td>\n",
       "      <td>0</td>\n",
       "      <td>0</td>\n",
       "    </tr>\n",
       "    <tr>\n",
       "      <th>12675</th>\n",
       "      <td>Home</td>\n",
       "      <td>Alone</td>\n",
       "      <td>Snowy</td>\n",
       "      <td>30</td>\n",
       "      <td>10PM</td>\n",
       "      <td>Coffee House</td>\n",
       "      <td>2h</td>\n",
       "      <td>Male</td>\n",
       "      <td>26</td>\n",
       "      <td>Single</td>\n",
       "      <td>...</td>\n",
       "      <td>never</td>\n",
       "      <td>1~3</td>\n",
       "      <td>4~8</td>\n",
       "      <td>1~3</td>\n",
       "      <td>1</td>\n",
       "      <td>1</td>\n",
       "      <td>0</td>\n",
       "      <td>0</td>\n",
       "      <td>1</td>\n",
       "      <td>0</td>\n",
       "    </tr>\n",
       "    <tr>\n",
       "      <th>12681</th>\n",
       "      <td>Work</td>\n",
       "      <td>Alone</td>\n",
       "      <td>Snowy</td>\n",
       "      <td>30</td>\n",
       "      <td>7AM</td>\n",
       "      <td>Coffee House</td>\n",
       "      <td>1d</td>\n",
       "      <td>Male</td>\n",
       "      <td>26</td>\n",
       "      <td>Single</td>\n",
       "      <td>...</td>\n",
       "      <td>never</td>\n",
       "      <td>1~3</td>\n",
       "      <td>4~8</td>\n",
       "      <td>1~3</td>\n",
       "      <td>1</td>\n",
       "      <td>0</td>\n",
       "      <td>0</td>\n",
       "      <td>1</td>\n",
       "      <td>0</td>\n",
       "      <td>0</td>\n",
       "    </tr>\n",
       "  </tbody>\n",
       "</table>\n",
       "<p>3816 rows × 25 columns</p>\n",
       "</div>"
      ],
      "text/plain": [
       "           destination  passanger weather  temperature  time        coupon  \\\n",
       "23     No Urgent Place  Friend(s)   Sunny           80  10AM  Coffee House   \n",
       "26     No Urgent Place  Friend(s)   Sunny           80   2PM  Coffee House   \n",
       "27     No Urgent Place  Friend(s)   Sunny           80   2PM  Coffee House   \n",
       "28     No Urgent Place  Friend(s)   Sunny           80   2PM  Coffee House   \n",
       "30     No Urgent Place  Friend(s)   Sunny           80   6PM  Coffee House   \n",
       "...                ...        ...     ...          ...   ...           ...   \n",
       "12656             Home      Alone   Snowy           30  10PM  Coffee House   \n",
       "12659             Work      Alone   Snowy           30   7AM  Coffee House   \n",
       "12674             Home      Alone   Rainy           55  10PM  Coffee House   \n",
       "12675             Home      Alone   Snowy           30  10PM  Coffee House   \n",
       "12681             Work      Alone   Snowy           30   7AM  Coffee House   \n",
       "\n",
       "      expiration gender age    maritalStatus  ...  CoffeeHouse CarryAway  \\\n",
       "23            2h   Male  21           Single  ...        less1       4~8   \n",
       "26            1d   Male  21           Single  ...        less1       4~8   \n",
       "27            2h   Male  21           Single  ...        less1       4~8   \n",
       "28            1d   Male  21           Single  ...        less1       4~8   \n",
       "30            2h   Male  21           Single  ...        less1       4~8   \n",
       "...          ...    ...  ..              ...  ...          ...       ...   \n",
       "12656         2h   Male  31  Married partner  ...        never       4~8   \n",
       "12659         1d   Male  31  Married partner  ...        never       4~8   \n",
       "12674         2h   Male  26           Single  ...        never       1~3   \n",
       "12675         2h   Male  26           Single  ...        never       1~3   \n",
       "12681         1d   Male  26           Single  ...        never       1~3   \n",
       "\n",
       "      RestaurantLessThan20 Restaurant20To50 toCoupon_GEQ5min  \\\n",
       "23                     4~8            less1                1   \n",
       "26                     4~8            less1                1   \n",
       "27                     4~8            less1                1   \n",
       "28                     4~8            less1                1   \n",
       "30                     4~8            less1                1   \n",
       "...                    ...              ...              ...   \n",
       "12656                  gt8            less1                1   \n",
       "12659                  gt8            less1                1   \n",
       "12674                  4~8              1~3                1   \n",
       "12675                  4~8              1~3                1   \n",
       "12681                  4~8              1~3                1   \n",
       "\n",
       "      toCoupon_GEQ15min toCoupon_GEQ25min direction_same direction_opp  Y  \n",
       "23                    0                 0              0             1  0  \n",
       "26                    0                 0              0             1  0  \n",
       "27                    1                 0              0             1  0  \n",
       "28                    1                 0              0             1  0  \n",
       "30                    0                 0              0             1  0  \n",
       "...                 ...               ...            ...           ... ..  \n",
       "12656                 1                 0              0             1  0  \n",
       "12659                 0                 0              1             0  0  \n",
       "12674                 0                 0              1             0  0  \n",
       "12675                 1                 0              0             1  0  \n",
       "12681                 0                 0              1             0  0  \n",
       "\n",
       "[3816 rows x 25 columns]"
      ]
     },
     "execution_count": 57,
     "metadata": {},
     "output_type": "execute_result"
    }
   ],
   "source": [
    "df_coffee_coupon = df_dropped.query('coupon == \"Coffee House\"').copy()\n",
    "df_coffee_coupon"
   ]
  },
  {
   "cell_type": "markdown",
   "metadata": {},
   "source": [
    "2. What proportion of coffee house coupons were accepted?"
   ]
  },
  {
   "cell_type": "code",
   "execution_count": 60,
   "metadata": {},
   "outputs": [
    {
     "data": {
      "text/plain": [
       "0.49633123689727465"
      ]
     },
     "execution_count": 60,
     "metadata": {},
     "output_type": "execute_result"
    }
   ],
   "source": [
    "coffee_coupon_acceptance_rate = df_coffee_coupon['Y'].mean()\n",
    "coffee_coupon_acceptance_rate"
   ]
  },
  {
   "cell_type": "markdown",
   "metadata": {},
   "source": [
    "3. Compare the acceptance rate between those who went to a coffee house 3 or fewer times a month to those who went more."
   ]
  },
  {
   "cell_type": "code",
   "execution_count": 63,
   "metadata": {},
   "outputs": [
    {
     "data": {
      "text/plain": [
       "coffee_house_visit_group\n",
       "went more                                          0.672556\n",
       "went to a coffee house 3 or fewer times a month    0.445905\n",
       "Name: Y, dtype: float64"
      ]
     },
     "execution_count": 63,
     "metadata": {},
     "output_type": "execute_result"
    }
   ],
   "source": [
    "df_coffee_coupon['coffee_house_visit_group'] = df_coffee_coupon.apply(\n",
    "    lambda x: 'went to a coffee house 3 or fewer times a month' if x['CoffeeHouse'] in ['never', 'less1', '1~3']  else \"went more\", axis=1\n",
    ")\n",
    "coffee_coupon_acceptance_rate_visit = df_coffee_coupon.groupby('coffee_house_visit_group')['Y'].mean()\n",
    "coffee_coupon_acceptance_rate_visit"
   ]
  },
  {
   "cell_type": "markdown",
   "metadata": {},
   "source": [
    "4. Compare the acceptance rate between drivers who go to a coffee house more than once a month and are over the age of 25 to the all others.  Is there a difference?"
   ]
  },
  {
   "cell_type": "code",
   "execution_count": 66,
   "metadata": {},
   "outputs": [
    {
     "data": {
      "text/plain": [
       "coffee_house_visit_age_group\n",
       "All Others                                          0.441242\n",
       "Goes to Coffee House More Than Once and Age > 25    0.630631\n",
       "Name: Y, dtype: float64"
      ]
     },
     "execution_count": 66,
     "metadata": {},
     "output_type": "execute_result"
    }
   ],
   "source": [
    "df_coffee_coupon.reset_index()\n",
    "df_coffee_coupon['age'] = pd.to_numeric(df_coffee_coupon['age'], errors='coerce')\n",
    "df_coffee_coupon['coffee_house_visit_age_group'] = df_coffee_coupon.apply(\n",
    "    lambda x: 'Goes to Coffee House More Than Once and Age > 25' if x['age'] > 25 and x['CoffeeHouse'] in ['1~3', '4~8', 'gt8']\n",
    "              else 'All Others', axis=1)\n",
    "acceptance_rate_by_coffee_age_group = df_coffee_coupon.groupby('coffee_house_visit_age_group')['Y'].mean()\n",
    "acceptance_rate_by_coffee_age_group"
   ]
  },
  {
   "cell_type": "markdown",
   "metadata": {},
   "source": [
    "5. Use the same process to compare the acceptance rate between drivers who go to coffee houses more than once a month and had passengers that were not a kid and had occupations other than farming, fishing, or forestry."
   ]
  },
  {
   "cell_type": "code",
   "execution_count": 69,
   "metadata": {},
   "outputs": [
    {
     "data": {
      "text/plain": [
       "coffee_visit_passanger_occupation\n",
       "All others                                                                                                                                  0.434908\n",
       "Go to coffee houses more than once a month, had passengers that were not a kid, had occupations other than farming, fishing, or forestry    0.767376\n",
       "Name: Y, dtype: float64"
      ]
     },
     "execution_count": 69,
     "metadata": {},
     "output_type": "execute_result"
    }
   ],
   "source": [
    "df_coffee_coupon.reset_index()\n",
    "df_coffee_coupon['coffee_visit_passanger_occupation'] = df_coffee_coupon.apply(\n",
    "    lambda x: \"Go to coffee houses more than once a month, had passengers that were not a kid, had occupations other than farming, fishing, or forestry\" if x['CoffeeHouse'] in ['1~3', '4~8', 'gt8'] and x['passanger'] in ['Friend(s)','Partner'] and x['occupation'] != 'Farming Fishing & Forestry'\n",
    "    else \"All others\", axis=1\n",
    ")\n",
    "acceptance_rate_by_coffee_visit_passanger_occupation_group = df_coffee_coupon.groupby('coffee_visit_passanger_occupation')['Y'].mean()\n",
    "acceptance_rate_by_coffee_visit_passanger_occupation_group"
   ]
  },
  {
   "cell_type": "markdown",
   "metadata": {},
   "source": [
    "6. Compare the acceptance rates between those drivers who:\n",
    "\n",
    "- go to coffee houses more than once a month, had passengers that were not a kid, and were not widowed *OR*\n",
    "- go to coffee houses more than once a month and are under the age of 30 *OR*\n",
    "- go to cheap restaurants more than 4 times a month and income is less than 50K."
   ]
  },
  {
   "cell_type": "code",
   "execution_count": 72,
   "metadata": {},
   "outputs": [
    {
     "data": {
      "text/plain": [
       "group_coffee\n",
       "All others     0.393309\n",
       "Condition 1    0.768730\n",
       "Condition 2    0.681507\n",
       "Condition 3    0.546985\n",
       "Name: Y, dtype: float64"
      ]
     },
     "execution_count": 72,
     "metadata": {},
     "output_type": "execute_result"
    }
   ],
   "source": [
    "df_coffee_coupon.reset_index()\n",
    "coffeeCondition1 = (\n",
    "    (df_coffee_coupon['CoffeeHouse'].isin(['1~3', '4~8', 'gt8'])) &\n",
    "    (df_coffee_coupon['passanger'].isin(['Friend(s)', 'Partner'])) & \n",
    "    (df_coffee_coupon['maritalStatus'] != 'Widowed')\n",
    ")\n",
    "coffeeCondition2 = (\n",
    "    (df_coffee_coupon['CoffeeHouse'].isin(['1~3', '4~8', 'gt8'])) &\n",
    "    (df_coffee_coupon['age'] < 30)\n",
    ")\n",
    "coffeeCondition3 = (\n",
    "    (df_coffee_coupon['RestaurantLessThan20'].isin(['4~8', 'gt8'])) & \n",
    "    (df_coffee_coupon['income'].isin(['Less than $12500','$12500 - $24999','$25000 - $37499','$37500 - $49999']))\n",
    ")\n",
    "df_coffee_coupon['group_coffee'] = 'All others'\n",
    "df_coffee_coupon.loc[coffeeCondition1, 'group_coffee'] = 'Condition 1'\n",
    "df_coffee_coupon.loc[coffeeCondition2, 'group_coffee'] = 'Condition 2'\n",
    "df_coffee_coupon.loc[coffeeCondition3, 'group_coffee'] = 'Condition 3'\n",
    "acceprance_rate_conditionlist1 = df_coffee_coupon.groupby('group_coffee')['Y'].mean()\n",
    "acceprance_rate_conditionlist1"
   ]
  },
  {
   "cell_type": "markdown",
   "metadata": {},
   "source": [
    "7. Based on these observations, what do you hypothesize about drivers who accepted the coffee coupons?"
   ]
  },
  {
   "cell_type": "code",
   "execution_count": 75,
   "metadata": {},
   "outputs": [
    {
     "data": {
      "text/plain": [
       "'Drivers who accepted the coffee coupons are those who go to coffee houses more than once a month, had passengers that were not a kid, and were not widowed.'"
      ]
     },
     "execution_count": 75,
     "metadata": {},
     "output_type": "execute_result"
    }
   ],
   "source": [
    "index_mapping_coffee = {\n",
    "    'Condition 1': 'Drivers who accepted the coffee coupons are those who go to coffee houses more than once a month, had passengers that were not a kid, and were not widowed.',\n",
    "    'Condition 2': 'Drivers who accepted the coffee coupons are those who go to coffee houses more than once a month and are under the age of 30.',\n",
    "    'Condition 3': 'Drivers who accepted the coffee coupons are those who go to cheap restaurants more than 4 times a month and income is less than 50K.'\n",
    "}\n",
    "acceprance_rate_conditionlist1_mapped_result = acceprance_rate_conditionlist1.rename(index=index_mapping_coffee).idxmax()\n",
    "acceprance_rate_conditionlist1_mapped_result"
   ]
  },
  {
   "cell_type": "markdown",
   "metadata": {},
   "source": [
    "### More Independent Investigations\n",
    "\n",
    "Now explore the other 3 coupon groups.  "
   ]
  },
  {
   "cell_type": "markdown",
   "metadata": {},
   "source": [
    "**Investigating less expensive restaurants (under $20) Coupons**\n",
    "\n",
    "Combine the all the steps together."
   ]
  },
  {
   "cell_type": "code",
   "execution_count": 79,
   "metadata": {},
   "outputs": [
    {
     "data": {
      "text/plain": [
       "(0.7090086694308331,\n",
       " restaurant_20_visit_group\n",
       " went more                                                         0.730443\n",
       " went to a restaurant less than 20 for 3 or fewer times a month    0.694724\n",
       " Name: Y, dtype: float64,\n",
       " restaurant_20_age_visit_group\n",
       " All Others                                                     0.696924\n",
       " Goes to restaurant less than 20 More Than Once and Age > 25    0.721212\n",
       " Name: Y, dtype: float64,\n",
       " group_restaurant_20\n",
       " All others     0.592018\n",
       " Condition 1    0.745520\n",
       " Condition 2    0.880531\n",
       " Condition 3    0.917241\n",
       " Name: Y, dtype: float64,\n",
       " 'Drivers who accepted the restaurant less than 20 coupons are those who had passengers that were not a kid and the expiration date is 1 day.')"
      ]
     },
     "execution_count": 79,
     "metadata": {},
     "output_type": "execute_result"
    }
   ],
   "source": [
    "df_Restaurant_20_coupon = df_dropped.query('coupon == \"Restaurant(<20)\"').copy()\n",
    "restaurant_20_coupon_acceptance_rate = df_Restaurant_20_coupon['Y'].mean()\n",
    "df_Restaurant_20_coupon['restaurant_20_visit_group'] = df_Restaurant_20_coupon.apply(\n",
    "    lambda x: 'went to a restaurant less than 20 for 3 or fewer times a month' if x['RestaurantLessThan20'] in ['never', 'less1', '1~3']  else \"went more\", axis=1\n",
    ")\n",
    "restaurant_20_coupon_acceptance_rate_visit = df_Restaurant_20_coupon.groupby('restaurant_20_visit_group')['Y'].mean()\n",
    "df_Restaurant_20_coupon.reset_index()\n",
    "df_Restaurant_20_coupon['age'] = pd.to_numeric(df_Restaurant_20_coupon['age'], errors='coerce')\n",
    "df_Restaurant_20_coupon['restaurant_20_age_visit_group'] = df_Restaurant_20_coupon.apply(\n",
    "    lambda x: 'Goes to restaurant less than 20 More Than Once and Age > 25' if x['age'] > 25 and x['RestaurantLessThan20'] in ['1~3', '4~8', 'gt8']\n",
    "              else 'All Others', axis=1)\n",
    "acceptance_rate_by_restaurant_20_age_group = df_Restaurant_20_coupon.groupby('restaurant_20_age_visit_group')['Y'].mean()\n",
    "df_Restaurant_20_coupon.reset_index()\n",
    "restaurant_20Condition1 = (\n",
    "    (df_Restaurant_20_coupon['RestaurantLessThan20'].isin(['1~3', '4~8', 'gt8'])) &\n",
    "    (df_Restaurant_20_coupon['passanger'].isin(['Friend(s)', 'Partner'])) & \n",
    "    (df_Restaurant_20_coupon['maritalStatus'] != 'Widowed')\n",
    ")\n",
    "restaurant_20Condition2 = (\n",
    "    (df_Restaurant_20_coupon['expiration'] == '1d') & \n",
    "    (df_Restaurant_20_coupon['time'].isin(['2PM', '6PM'])) \n",
    ")\n",
    "restaurant_20Condition3 = (\n",
    "    (df_Restaurant_20_coupon['expiration'].isin(['1d'])) & \n",
    "    (df_Restaurant_20_coupon['passanger'].isin(['Friend(s)']))\n",
    ")\n",
    "df_Restaurant_20_coupon['group_restaurant_20'] = 'All others'\n",
    "df_Restaurant_20_coupon.loc[restaurant_20Condition1, 'group_restaurant_20'] = 'Condition 1'\n",
    "df_Restaurant_20_coupon.loc[restaurant_20Condition2, 'group_restaurant_20'] = 'Condition 2'\n",
    "df_Restaurant_20_coupon.loc[restaurant_20Condition3, 'group_restaurant_20'] = 'Condition 3'\n",
    "acceprance_rate_conditionlist_restaurant_20_1 = df_Restaurant_20_coupon.groupby('group_restaurant_20')['Y'].mean()\n",
    "index_mapping_Restaurant_20 = {\n",
    "    'Condition 1': 'Drivers who accepted the restaurant less than 20 coupons are those who go to cheap restaurants more than once a month, had passengers that were not a kid, and were not widowed.',\n",
    "    'Condition 2': 'Drivers who accepted the restaurant less than 20 coupons are those who took the coupon between 2PM and 6PM, and the expiration date is 1 day.',\n",
    "    'Condition 3': 'Drivers who accepted the restaurant less than 20 coupons are those who had passengers that were not a kid and the expiration date is 1 day.'\n",
    "}\n",
    "acceprance_rate_conditionlist_restaurant_20_1_mapped_result = acceprance_rate_conditionlist_restaurant_20_1.rename(index=index_mapping_Restaurant_20).idxmax()\n",
    "restaurant_20_coupon_acceptance_rate, restaurant_20_coupon_acceptance_rate_visit, acceptance_rate_by_restaurant_20_age_group, acceprance_rate_conditionlist_restaurant_20_1, acceprance_rate_conditionlist_restaurant_20_1_mapped_result"
   ]
  },
  {
   "cell_type": "markdown",
   "metadata": {},
   "source": [
    "**Investigating more expensive restaurants ($20 - 50) Coupons**\n",
    "\n",
    "Combine the all the steps together."
   ]
  },
  {
   "cell_type": "code",
   "execution_count": 82,
   "metadata": {},
   "outputs": [
    {
     "data": {
      "text/plain": [
       "(0.44601270289343686,\n",
       " restaurant_2050_visit_group\n",
       " went more                                                              0.646552\n",
       " went to a restaurant between 20 and 50 for 3 or fewer times a month    0.428132\n",
       " Name: Y, dtype: float64,\n",
       " restaurant_2050_age_visit_group\n",
       " All Others                                                          0.410046\n",
       " Goes to restaurant between 20 and 50 More Than Once and Age > 25    0.568323\n",
       " Name: Y, dtype: float64,\n",
       " group_restaurant_2050\n",
       " All others     0.381607\n",
       " Condition 1    0.666667\n",
       " Condition 2    0.561605\n",
       " Condition 3    0.485714\n",
       " Name: Y, dtype: float64,\n",
       " 'Drivers who accepted the restaurant between 20 and 50 coupons are those who go to cheap restaurants more than once a month, had passengers that were not a kid, and were not widowed.')"
      ]
     },
     "execution_count": 82,
     "metadata": {},
     "output_type": "execute_result"
    }
   ],
   "source": [
    "df_Restaurant_2050_coupon = df_dropped.query('coupon == \"Restaurant(20-50)\"').copy()\n",
    "restaurant_2050_coupon_acceptance_rate = df_Restaurant_2050_coupon['Y'].mean()\n",
    "df_Restaurant_2050_coupon['restaurant_2050_visit_group'] = df_Restaurant_2050_coupon.apply(\n",
    "    lambda x: 'went to a restaurant between 20 and 50 for 3 or fewer times a month' if x['Restaurant20To50'] in ['never', 'less1', '1~3']  else \"went more\", axis=1\n",
    ")\n",
    "restaurant_2050_coupon_acceptance_rate_visit = df_Restaurant_2050_coupon.groupby('restaurant_2050_visit_group')['Y'].mean()\n",
    "\n",
    "df_Restaurant_2050_coupon.reset_index()\n",
    "df_Restaurant_2050_coupon['age'] = pd.to_numeric(df_Restaurant_2050_coupon['age'], errors='coerce')\n",
    "df_Restaurant_2050_coupon['restaurant_2050_age_visit_group'] = df_Restaurant_2050_coupon.apply(\n",
    "    lambda x: 'Goes to restaurant between 20 and 50 More Than Once and Age > 25' if x['age'] > 25 and x['Restaurant20To50'] in ['1~3', '4~8', 'gt8']\n",
    "              else 'All Others', axis=1)\n",
    "acceptance_rate_by_restaurant_2050_age_group = df_Restaurant_2050_coupon.groupby('restaurant_2050_age_visit_group')['Y'].mean()\n",
    "\n",
    "df_Restaurant_2050_coupon.reset_index()\n",
    "restaurant_2050Condition1 = (\n",
    "    (df_Restaurant_2050_coupon['Restaurant20To50'].isin(['1~3', '4~8', 'gt8'])) &\n",
    "    (df_Restaurant_2050_coupon['passanger'].isin(['Friend(s)', 'Partner'])) & \n",
    "    (df_Restaurant_2050_coupon['maritalStatus'] != 'Widowed')\n",
    ")\n",
    "restaurant_2050Condition2 = (\n",
    "    (df_Restaurant_2050_coupon['expiration'] == '1d') & \n",
    "    (df_Restaurant_2050_coupon['time'].isin(['2PM', '6PM'])) \n",
    ")\n",
    "restaurant_2050Condition3 = (\n",
    "    (df_Restaurant_2050_coupon['expiration'].isin(['1d'])) & \n",
    "    (df_Restaurant_2050_coupon['passanger'].isin(['Friend(s)']))\n",
    ")\n",
    "df_Restaurant_2050_coupon['group_restaurant_2050'] = 'All others'\n",
    "df_Restaurant_2050_coupon.loc[restaurant_2050Condition1, 'group_restaurant_2050'] = 'Condition 1'\n",
    "df_Restaurant_2050_coupon.loc[restaurant_2050Condition2, 'group_restaurant_2050'] = 'Condition 2'\n",
    "df_Restaurant_2050_coupon.loc[restaurant_2050Condition3, 'group_restaurant_2050'] = 'Condition 3'\n",
    "acceprance_rate_conditionlist_restaurant_2050_1 = df_Restaurant_2050_coupon.groupby('group_restaurant_2050')['Y'].mean()\n",
    "index_mapping_Restaurant_2050 = {\n",
    "    'Condition 1': 'Drivers who accepted the restaurant between 20 and 50 coupons are those who go to cheap restaurants more than once a month, had passengers that were not a kid, and were not widowed.',\n",
    "    'Condition 2': 'Drivers who accepted the restaurant between 20 and 50 coupons are those who took the coupon between 2PM and 6PM, and the expiration date is 1 day.',\n",
    "    'Condition 3': 'Drivers who accepted the restaurant between 20 and 50 coupons are those who had passengers that were friends and the expiration date is 1 day.'\n",
    "}\n",
    "acceprance_rate_conditionlist_restaurant_2050_1_mapped_result = acceprance_rate_conditionlist_restaurant_2050_1.rename(index=index_mapping_Restaurant_2050).idxmax()\n",
    "restaurant_2050_coupon_acceptance_rate, restaurant_2050_coupon_acceptance_rate_visit,acceptance_rate_by_restaurant_2050_age_group,acceprance_rate_conditionlist_restaurant_2050_1, acceprance_rate_conditionlist_restaurant_2050_1_mapped_result"
   ]
  },
  {
   "cell_type": "markdown",
   "metadata": {
    "id": "RrqUWn7d_qRL"
   },
   "source": [
    "**Investigating Carry out & Take away Coupons**\n",
    "\n",
    "Combine the all the steps together."
   ]
  },
  {
   "cell_type": "code",
   "execution_count": 85,
   "metadata": {
    "id": "_oykf8YP_qRL"
   },
   "outputs": [
    {
     "data": {
      "text/plain": [
       "(0.737719298245614,\n",
       " CarryAway_visit_group\n",
       " went more                                                     0.753475\n",
       " went to Carry out & Take away for 3 or fewer times a month    0.723564\n",
       " Name: Y, dtype: float64,\n",
       " CarryAway_age_visit_group\n",
       " All Others                                                   0.734062\n",
       " Goes to Carry out & Take away More Than Once and Age > 25    0.741117\n",
       " Name: Y, dtype: float64,\n",
       " group_CarryAway\n",
       " All others     0.692864\n",
       " Condition 1    0.723992\n",
       " Condition 2    0.860274\n",
       " Condition 3    0.771513\n",
       " Name: Y, dtype: float64,\n",
       " 'Drivers who accepted the Carry out & Take away coupons are those who took the coupon between 2PM and 6PM, and the expiration date is 1 day.')"
      ]
     },
     "execution_count": 85,
     "metadata": {},
     "output_type": "execute_result"
    }
   ],
   "source": [
    "df_CarryAway_coupon = df_dropped.query('coupon == \"Carry out & Take away\"').copy()\n",
    "CarryAway_coupon_acceptance_rate = df_CarryAway_coupon['Y'].mean()\n",
    "df_CarryAway_coupon['CarryAway_visit_group'] = df_CarryAway_coupon.apply(\n",
    "    lambda x: 'went to Carry out & Take away for 3 or fewer times a month' if x['CarryAway'] in ['never', 'less1', '1~3']  else \"went more\", axis=1\n",
    ")\n",
    "CarryAway_coupon_acceptance_rate_visit = df_CarryAway_coupon.groupby('CarryAway_visit_group')['Y'].mean()\n",
    "\n",
    "df_CarryAway_coupon.reset_index()\n",
    "df_CarryAway_coupon['age'] = pd.to_numeric(df_CarryAway_coupon['age'], errors='coerce')\n",
    "df_CarryAway_coupon['CarryAway_age_visit_group'] = df_CarryAway_coupon.apply(\n",
    "    lambda x: 'Goes to Carry out & Take away More Than Once and Age > 25' if x['age'] > 25 and x['CarryAway'] in ['1~3', '4~8', 'gt8']\n",
    "              else 'All Others', axis=1)\n",
    "acceptance_rate_by_CarryAway_age_group = df_CarryAway_coupon.groupby('CarryAway_age_visit_group')['Y'].mean()\n",
    "\n",
    "df_CarryAway_coupon.reset_index()\n",
    "CarryAwayCondition1 = (\n",
    "    (df_CarryAway_coupon['CarryAway'].isin(['1~3', '4~8', 'gt8'])) &\n",
    "    (df_CarryAway_coupon['passanger'].isin(['Friend(s)', 'Partner'])) & \n",
    "    (df_CarryAway_coupon['maritalStatus'] != 'Widowed')\n",
    ")\n",
    "CarryAwayCondition2 = (\n",
    "    (df_CarryAway_coupon['expiration'] == '1d') & \n",
    "    (df_CarryAway_coupon['time'].isin(['2PM', '6PM'])) \n",
    ")\n",
    "CarryAwayCondition3 = (\n",
    "    (df_CarryAway_coupon['expiration'].isin(['1d'])) & \n",
    "    (df_CarryAway_coupon['direction_same'] == 1)\n",
    ")\n",
    "df_CarryAway_coupon['group_CarryAway'] = 'All others'\n",
    "df_CarryAway_coupon.loc[CarryAwayCondition1, 'group_CarryAway'] = 'Condition 1'\n",
    "df_CarryAway_coupon.loc[CarryAwayCondition2, 'group_CarryAway'] = 'Condition 2'\n",
    "df_CarryAway_coupon.loc[CarryAwayCondition3, 'group_CarryAway'] = 'Condition 3'\n",
    "acceprance_rate_conditionlist_CarryAway_1 = df_CarryAway_coupon.groupby('group_CarryAway')['Y'].mean()\n",
    "index_mapping_CarryAway = {\n",
    "    'Condition 1': 'Drivers who accepted the Carry out & Take away coupons are those who go to cheap restaurants more than once a month, had passengers that were not a kid, and were not widowed.',\n",
    "    'Condition 2': 'Drivers who accepted the Carry out & Take away coupons are those who took the coupon between 2PM and 6PM, and the expiration date is 1 day.',\n",
    "    'Condition 3': 'Drivers who accepted the Carry out & Take away coupons are those who drove the same direction and the expiration date is 1 day.'\n",
    "}\n",
    "acceprance_rate_conditionlist_CarryAway_1_mapped_result = acceprance_rate_conditionlist_CarryAway_1.rename(index=index_mapping_CarryAway).idxmax()\n",
    "CarryAway_coupon_acceptance_rate, CarryAway_coupon_acceptance_rate_visit,acceptance_rate_by_CarryAway_age_group,acceprance_rate_conditionlist_CarryAway_1, acceprance_rate_conditionlist_CarryAway_1_mapped_result"
   ]
  },
  {
   "cell_type": "markdown",
   "metadata": {
    "id": "fTC2WGE3_qRL"
   },
   "source": [
    "# Coupon Acceptance Report\n",
    "## Overview\n",
    "This report highlights the key differences between drivers who accepted various types of coupons and those who did not. The goal is to identify patterns in customer behavior based on their preferences, habits, and demographic factors. This analysis will help refine marketing strategies for future coupon offers.\n",
    "## Link to the Jupyter notebook\n",
    "[My Jupyter notebook](https://github.com/jeffhonghou/coupon_acceptance_analysis/blob/main/prompt.ipynb)\n",
    "## Key Findings\n",
    "**1. Bar Coupons**\n",
    "- Accepted by: Drivers who go to bars more than once a month and are under the age of 30.\n",
    "- Non-acceptance: Drivers who visit bars less frequently or are older than 30 tend to disregard bar coupons.\n",
    "  \n",
    "**2. Coffee Coupons**\n",
    "- Accepted by: Drivers who visit coffee houses more than once a month, have passengers who are not kids, and are not widowed.\n",
    "- Non-acceptance: Drivers who have children as passengers or are widowed showed less interest in accepting coffee coupons.\n",
    "  \n",
    "**3. Less Expensive Restaurants (under `$20`) Coupons**\n",
    "- Accepted by: Drivers who had passengers that were not kids and when the coupon’s expiration date was within 1 day.\n",
    "- Non-acceptance: Drivers with children as passengers or when the coupon had more than a 1-day expiration window.\n",
    "  \n",
    "**4. More Expensive Restaurants (`$20 - $50`) Coupons**\n",
    "- Accepted by: Drivers who visit cheap restaurants more than once a month, have passengers who are not kids, and are not widowed.\n",
    "- Non-acceptance: Drivers who do not visit inexpensive restaurants frequently or are widowed were less likely to accept these coupons.\n",
    "  \n",
    "**5. Carry Out & Takeaway Coupons**\n",
    "- Accepted by: Drivers who took the coupon between 2 PM and 6 PM, and when the expiration date was within 1 day.\n",
    "- Non-acceptance: Drivers who either didn’t take the coupon during this time frame or had a longer expiration window tended to ignore these offers.\n",
    "## Actionable Items and Recommendations\n",
    "**1. Target Young Drivers for Bar Coupons**\n",
    "- **Recommendation:** Focus marketing efforts on drivers under 30 who visit bars more than once a month. Tailor bar-related offers towards this demographic and frequency pattern to increase coupon acceptance.\n",
    "\n",
    "**2. Offer Coffee Coupons to Drivers without kids with them**\n",
    "- **Recommendation:** Coffee coupons should be aimed at drivers who frequent coffee houses, have passengers who are not children, and are not widowed. Adjust campaigns to reflect these behavioral trends.\n",
    "\n",
    "**3. Long Expiry Coupons for Restaurant Offers**\n",
    "- **Recommendation:** For less expensive restaurant coupons, offer coupons with a 1-day instead of 1-hour expiration window to increase uptake. Specifically target drivers without children as passengers.\n",
    "\n",
    "**4. Target Regular Restaurant Goers for Expensive Coupons**\n",
    "- **Recommendation:** Aim promotions for more expensive restaurant coupons at drivers who visit inexpensive restaurants frequently and are not widowed. This specific customer base is more likely to respond positively to these offers.\n",
    "\n",
    "**5. Time-Limited Carry-Out Coupons**\n",
    "- **Recommendation:** For takeaway coupons, consider offering time-sensitive coupons between 2 PM and 6 PM with 1-day expiration. This time window showed the highest coupon acceptance rate.\n",
    "\n",
    "## Conclusion\n",
    "The coupon acceptance data shows clear patterns based on customers' frequency of visits to certain types of establishments, their demographics, and the timing of the offer. Customers who engage with specific venues regularly (like bars or coffee houses) or who have certain passenger types (e.g., no children) are more likely to accept relevant coupons."
   ]
  },
  {
   "cell_type": "code",
   "execution_count": null,
   "metadata": {},
   "outputs": [],
   "source": []
  },
  {
   "cell_type": "code",
   "execution_count": null,
   "metadata": {},
   "outputs": [],
   "source": []
  }
 ],
 "metadata": {
  "colab": {
   "provenance": []
  },
  "kernelspec": {
   "display_name": "Python 3 (ipykernel)",
   "language": "python",
   "name": "python3"
  },
  "language_info": {
   "codemirror_mode": {
    "name": "ipython",
    "version": 3
   },
   "file_extension": ".py",
   "mimetype": "text/x-python",
   "name": "python",
   "nbconvert_exporter": "python",
   "pygments_lexer": "ipython3",
   "version": "3.12.7"
  }
 },
 "nbformat": 4,
 "nbformat_minor": 4
}
